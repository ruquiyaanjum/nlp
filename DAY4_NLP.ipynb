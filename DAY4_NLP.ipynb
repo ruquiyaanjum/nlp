{
 "cells": [
  {
   "cell_type": "markdown",
   "id": "87f45da2-bff9-4bfe-a52a-69f58dedc025",
   "metadata": {},
   "source": [
    "TF IDF"
   ]
  },
  {
   "cell_type": "code",
   "execution_count": 1,
   "id": "0ee6bf10-395f-4774-b63e-03682b781271",
   "metadata": {},
   "outputs": [
    {
     "name": "stdout",
     "output_type": "stream",
     "text": [
      "['a', 'and', 'bag', 'by', 'case', 'corpus', 'demonstrate', 'few', 'first', 'followed', 'in', 'is', 'more', 'of', 'one', 'our', 'sencond', 'sentence', 'the', 'third', 'this', 'title', 'to', 'upper', 'with', 'words']\n",
      "there are 26 words in voacbulary\n",
      "A total of 44 words in corpus\n"
     ]
    }
   ],
   "source": [
    "#BOW and TF-IDF implementation\n",
    "# how to find unique words in your corpus\n",
    "# Vocab\n",
    "\n",
    "corpus = ['This is the first sentence in our corpus followed by one more sentence to demonstrate Bag of Words',\n",
    "          'This is the sencond sentence in our corpus with a FEW UPPER WORDS and Few Title Case Words',\n",
    "          'this is the third sentence in our corpus']\n",
    "\n",
    "vocab = []\n",
    "total_words = 0\n",
    "for sentence in corpus:\n",
    "    sentence = sentence.lower()\n",
    "    token_temp = sentence.split()\n",
    "    total_words = total_words + len(token_temp)\n",
    "    for i in range(len(token_temp)):\n",
    "        if token_temp[i] not in vocab:\n",
    "            vocab.append(token_temp[i])\n",
    "vocab.sort()\n",
    "print(vocab)\n",
    "print(\"there are {} words in voacbulary\".format(len(vocab)))\n",
    "print(\"A total of {} words in corpus\".format(total_words))"
   ]
  },
  {
   "cell_type": "markdown",
   "id": "08fd45c6-d436-4e14-9878-5d84ca9f6833",
   "metadata": {},
   "source": [
    "        w1   w2               w3     w4\n",
    "            intelligent       boy \n",
    "sent1   0       1              1      0  (word weigtage is not given in BOWs)\n",
    "               like(0.1)       (0.9)      it will handle by TF-IDF "
   ]
  },
  {
   "cell_type": "markdown",
   "id": "76efdedb-5dbd-443d-8570-66ffa011bb67",
   "metadata": {},
   "source": [
    "TF-IDF (Term Frequency - Inverse Document Frequence)\n",
    "\n",
    "sent1. Intelligent boy\n",
    "sent2. Intelligent girl\n",
    "sent3. Intelligent boy girl\n",
    "\n",
    "Term Frequency = number of repitation of words in sentence / total number of words in sentence\n",
    "\n",
    "IDF = log(total number of sentences) / number of sentences containing words)\n",
    "\n",
    "TF * IDF = useful \n",
    "\n",
    "histogram analaysis :\n",
    "   histogram (finding the freuency of words):\n",
    "      \n",
    "      words          frequency\n",
    "      intelligent       3\n",
    "      boy               2\n",
    "      girl              2\n",
    "      \n",
    "      ---> vector representation (down step)\n",
    "TF(Term Frequency):\n",
    "  \n",
    "  word           sent1    sent2    sent3\n",
    "  intelligent    1/2      1/2      1/3 \n",
    "  boy            1/2      0        1/3\n",
    "  girl           0        1/2      1/3\n",
    "  \n",
    "  \n",
    "IDF (Inverse Document Frequence) :\n",
    "\n",
    "words          IDF\n",
    "Intelligent   log(3/3) \n",
    "boy           log(3/2)\n",
    "girl          log(3/2)\n",
    "\n",
    "\n",
    "feature set  (unique words):\n",
    " \n",
    "           f1             f2             f3\n",
    "        intelligent      boy            girl\n",
    "sent1       0            1/2*log(3/2)     0\n",
    "sent2       0             0              1/2*log(3/2)\n",
    "sent3       0            1/3*log(3/2)    1/3*log(3/2)  --> Model (training data)\n",
    "\n",
    "\n",
    "\n",
    "Term Frequency means how many times a word is repiting in the sentence (histogram analysis)."
   ]
  },
  {
   "cell_type": "code",
   "execution_count": 2,
   "id": "08ce2c5d-432b-45b6-bcb7-d2f6c3ca8841",
   "metadata": {},
   "outputs": [
    {
     "data": {
      "text/plain": [
       "array([[0.        , 0.        , 0.        , 0.5       , 0.5       ,\n",
       "        0.        , 0.5       , 0.5       , 0.        , 0.        ],\n",
       "       [0.57735027, 0.        , 0.        , 0.        , 0.        ,\n",
       "        0.        , 0.        , 0.        , 0.57735027, 0.57735027],\n",
       "       [0.        , 0.57735027, 0.57735027, 0.        , 0.        ,\n",
       "        0.57735027, 0.        , 0.        , 0.        , 0.        ]])"
      ]
     },
     "execution_count": 2,
     "metadata": {},
     "output_type": "execute_result"
    }
   ],
   "source": [
    "#TF-IDF  (giving the word weightage)\n",
    "from sklearn.feature_extraction.text import TfidfVectorizer\n",
    "\n",
    "data = [ \"I love Natural language Processing\",\n",
    "        \"creating word vectors\",\n",
    "         \"Is my jam!\" ]\n",
    "\n",
    "tfvectorizer = TfidfVectorizer()\n",
    "vectorized_data = tfvectorizer.fit_transform(data)\n",
    "x=vectorized_data.toarray()\n",
    "x"
   ]
  },
  {
   "cell_type": "code",
   "execution_count": 4,
   "id": "b61739c9-a4a1-42b7-a34b-20cd4215f083",
   "metadata": {},
   "outputs": [
    {
     "data": {
      "text/plain": [
       "array([[0, 0, 0, 1, 1, 0, 1, 1, 0, 0],\n",
       "       [1, 0, 0, 0, 0, 0, 0, 0, 1, 1],\n",
       "       [0, 1, 1, 0, 0, 1, 0, 0, 0, 0]])"
      ]
     },
     "execution_count": 4,
     "metadata": {},
     "output_type": "execute_result"
    }
   ],
   "source": [
    "#BOWs \n",
    "\n",
    "from sklearn.feature_extraction.text import CountVectorizer\n",
    "\n",
    "cv = CountVectorizer()\n",
    "x=cv.fit_transform(data).toarray()\n",
    "x"
   ]
  },
  {
   "cell_type": "code",
   "execution_count": null,
   "id": "26814b03-541c-4ae7-9921-fc7e7eff7d34",
   "metadata": {},
   "outputs": [],
   "source": []
  }
 ],
 "metadata": {
  "kernelspec": {
   "display_name": "Python 3 (ipykernel)",
   "language": "python",
   "name": "python3"
  },
  "language_info": {
   "codemirror_mode": {
    "name": "ipython",
    "version": 3
   },
   "file_extension": ".py",
   "mimetype": "text/x-python",
   "name": "python",
   "nbconvert_exporter": "python",
   "pygments_lexer": "ipython3",
   "version": "3.10.8"
  }
 },
 "nbformat": 4,
 "nbformat_minor": 5
}
