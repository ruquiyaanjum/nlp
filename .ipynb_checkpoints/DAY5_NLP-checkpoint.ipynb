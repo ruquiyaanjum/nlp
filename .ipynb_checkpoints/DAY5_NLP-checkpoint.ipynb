{
 "cells": [
  {
   "cell_type": "markdown",
   "id": "98d819c9-7541-4403-a5fc-1c7c613739df",
   "metadata": {},
   "source": [
    "End-to-end project on BOW and TF-IDF"
   ]
  },
  {
   "cell_type": "markdown",
   "id": "de0d5047-2bba-411a-a9fd-b9166da73260",
   "metadata": {},
   "source": [
    "text --> pre processing(cleaning, lower) --> processingI(text to numbers){BOW,TF-IDF} --> ML --> predict --> performing\n",
    "\n",
    "this is an end to end project"
   ]
  },
  {
   "cell_type": "markdown",
   "id": "da343ae0-688d-44ca-a72d-823e53dc8db7",
   "metadata": {},
   "source": [
    "TF-IDF:\n",
    "    Advantages :\n",
    "        * it weights the words --> importance to word\n",
    "        \n",
    "    i love nlp\n",
    "    4  55  66  --> context,order, semantic information  (missing)\n",
    "    \n",
    "    Disadvantages :\n",
    "        * context information is missing\n",
    "        * order information is missing\n",
    "        * sensitive to corpus size\n",
    "        * baised to rare term "
   ]
  },
  {
   "cell_type": "markdown",
   "id": "e53ab12c-da6b-4da6-81a4-774f6cdb10bd",
   "metadata": {},
   "source": [
    "#Dataset -- UCI Machine Learning Repo\n",
    "SMS Spam Collection dataset\n",
    "data:\n",
    "  sent1 \n",
    "  sent2\n",
    "  .\n",
    "  .\n",
    "  10k sentences   (finding spam/ham(not spam))\n",
    "  \n",
    "  \n",
    "label   messages(independent variable)\n",
    "spam    ----\n",
    "ham     ---\n",
    "\n",
    "\n",
    "x = 0 0 0 1 (sentences)    y = 0 (labels) \n",
    "    1 0 0 1                    1\n",
    "   \n",
    "70 % (training set) {x and y value} --> MODEL (train) --> predict (y-predict)\n",
    "30 % (test set)  given to model ..\n",
    "\n",
    "{y-true - y-predict \n",
    "Error = actual value - prediction value (similar)  ~ 0 (NEARER TO ZERO MODEL IS GOOD)}\n",
    "accuracy ~~ 100%"
   ]
  },
  {
   "cell_type": "code",
   "execution_count": 5,
   "id": "bd5d0677-9056-4e32-85d5-87260ecd8149",
   "metadata": {},
   "outputs": [
    {
     "name": "stdout",
     "output_type": "stream",
     "text": [
      "accuracy: 0.9856502242152466\n"
     ]
    }
   ],
   "source": [
    "#importing dataset\n",
    "import pandas as pd\n",
    "\n",
    "#reading csv file\n",
    "messages = pd.read_csv(\"SMSSpamCollection\", sep=\"\\t\",names=[\"label\",\"message\"])\n",
    "#print(messages)\n",
    "\n",
    "#Data cleaning and preprocessing\n",
    "import re\n",
    "import nltk\n",
    "#nltk.download(\"stopwords\")\n",
    "\n",
    "from nltk.corpus import stopwords\n",
    "from nltk.stem.porter import PorterStemmer\n",
    "\n",
    "ps = PorterStemmer()\n",
    "corpus = []\n",
    "for i in range(0,len(messages)):\n",
    "    review = re.sub(\"[^a-zA-Z]\",\" \",messages[\"message\"][i])\n",
    "    review = review.lower()\n",
    "    review = review.split()\n",
    "    \n",
    "    review = [ps.stem(word) for word in review if not word in stopwords.words(\"english\")]\n",
    "    review = \" \".join(review)\n",
    "    corpus.append(review)\n",
    "    \n",
    "    \n",
    "#creating the bag of words model\n",
    "from sklearn.feature_extraction.text import CountVectorizer\n",
    "cv = CountVectorizer(max_features=2500)\n",
    "x = cv.fit_transform(corpus).toarray()\n",
    "#print(x)\n",
    "\n",
    "y = pd.get_dummies(messages[\"label\"])\n",
    "y =y.iloc[:,1].values                  #spam -- 1 ham -- 0\n",
    "\n",
    "#train test split\n",
    "\n",
    "from sklearn.model_selection import train_test_split\n",
    "x_train, x_test, y_train, y_test = train_test_split(x,y, test_size=0.20, random_state=0)\n",
    "\n",
    "\n",
    "#training model using Naive  bayes classifier\n",
    "\n",
    "from sklearn.naive_bayes import MultinomialNB\n",
    "spam_detect_model =MultinomialNB().fit(x_train, y_train)\n",
    "\n",
    "y_pred = spam_detect_model.predict(x_test)\n",
    "\n",
    "from sklearn.metrics import accuracy_score\n",
    "print(\"accuracy:\",accuracy_score(y_test,y_pred))   #98% accuracy"
   ]
  },
  {
   "cell_type": "code",
   "execution_count": null,
   "id": "814060aa-d651-485d-be12-efd804feb2a6",
   "metadata": {},
   "outputs": [],
   "source": []
  }
 ],
 "metadata": {
  "kernelspec": {
   "display_name": "Python 3 (ipykernel)",
   "language": "python",
   "name": "python3"
  },
  "language_info": {
   "codemirror_mode": {
    "name": "ipython",
    "version": 3
   },
   "file_extension": ".py",
   "mimetype": "text/x-python",
   "name": "python",
   "nbconvert_exporter": "python",
   "pygments_lexer": "ipython3",
   "version": "3.10.8"
  }
 },
 "nbformat": 4,
 "nbformat_minor": 5
}
